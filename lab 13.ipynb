{
 "cells": [
  {
   "cell_type": "code",
   "execution_count": 8,
   "metadata": {},
   "outputs": [
    {
     "name": "stdout",
     "output_type": "stream",
     "text": [
      "ВЕСНАФ\n",
      "[63, 135, 202, 73, 172, 271]\n"
     ]
    }
   ],
   "source": [
    "\n",
    "alphabet = \"АБВГДЕЖЗИЙКЛМНОПРСТУФХЦЧШЩЬЫЪЭЮЯ\"\n",
    "\n",
    "def find_op(k):\n",
    "    \n",
    "    op = k[0][0] * k[1][1] * k[2][2]+ k[0][1] * k[2][0] * k[1][2]+ k[1][0] * k[0][2] * k[2][1]- k[2][0] * k[1][1] * k[0][2]- k[0][0] * k[1][2] * k[2][1]- k[2][2] * k[1][0] * k[0][1]\n",
    "    return op\n",
    "\n",
    "def matrich():\n",
    "    string = str(input())\n",
    "    while len(string) % 3 !=0:\n",
    "        string += \"Ф\"\n",
    "        print(string)\n",
    "    \n",
    "\n",
    "    key = []\n",
    "    while True:\n",
    "        \n",
    "        for i in range(3):\n",
    "            temp_s =[]\n",
    "            for j in range(3):\n",
    "                a = int(input())\n",
    "                temp_s.append(a)\n",
    "            key.append(temp_s)\n",
    "\n",
    "        if find_op(key) == 0:\n",
    "            continue\n",
    "        else:\n",
    "            break\n",
    "\n",
    "\n",
    "    dig_string = []\n",
    "\n",
    "   \n",
    "    \n",
    "    \n",
    "    temp_row = []  \n",
    "    for i in range(len(string)):\n",
    "        dig_string.append(alphabet.find(string[i]))\n",
    "\n",
    "    reshaped_dig_string = []\n",
    "    \n",
    "\n",
    "    for i in range(0, len(dig_string), 3): \n",
    "        reshaped_dig_string.append(dig_string[i:i+3])\n",
    "    \n",
    "    \n",
    "\n",
    "    n_string = []\n",
    "    for c in range(len(reshaped_dig_string)):\n",
    "        \n",
    "        for i in range(3):\n",
    "            suma = 0\n",
    "            \n",
    "            for j in range(3):\n",
    "                suma += key[i][j]*reshaped_dig_string[c][j]\n",
    "            n_string.append(suma)\n",
    "    print(n_string)\n",
    "    return n_string\n",
    "    \n",
    "\n",
    "\n",
    "\n",
    "\n",
    "    \n",
    "\n",
    "m = \"КТООБЖЕГСЯНАСУПЕЗПТДУЕТИНАХОЛОДНУЮРЫБУТЧК\"\n",
    "\n",
    "phrase = \"КРАСИВЫМИСЛОВАМИПАСТЕРНАКНЕПОМАСЛИШЬТЧК\"\n",
    "test = \"ЗАБАВА\"\n",
    "\n",
    "# 1 4 8 3 7 2 6 9 5         \n",
    "\n",
    "\n",
    "\n",
    "nn = matrich()\n",
    "\n"
   ]
  },
  {
   "cell_type": "code",
   "execution_count": 13,
   "metadata": {},
   "outputs": [
    {
     "name": "stdout",
     "output_type": "stream",
     "text": [
      "3\n"
     ]
    }
   ],
   "source": [
    "i = 5\n",
    "j = 6\n",
    "\n",
    "\n",
    "\n",
    "\n",
    "N = 1\n",
    "\n",
    "\n",
    "print((N*(i**2+j**2)+i**2+j**2+i+j)%10)"
   ]
  },
  {
   "cell_type": "code",
   "execution_count": 9,
   "metadata": {},
   "outputs": [
    {
     "name": "stdout",
     "output_type": "stream",
     "text": [
      "[[1, 2, 3], [4, 5, 6], [7, 7, 9]]\n",
      "['В', 'Е', 'С', 'Н', 'А', 'Ф']\n"
     ]
    }
   ],
   "source": [
    "\n",
    "def find_op(k):\n",
    "    \n",
    "    op = k[0][0] * k[1][1] * k[2][2]+ k[0][1] * k[2][0] * k[1][2]+ k[1][0] * k[0][2] * k[2][1]- k[2][0] * k[1][1] * k[0][2]- k[0][0] * k[1][2] * k[2][1]- k[2][2] * k[1][0] * k[0][1]\n",
    "    return op\n",
    "\n",
    "\n",
    "def get_key():\n",
    "    k = []\n",
    "    for i in range(3):\n",
    "        temp_s =[]\n",
    "        for j in range(3):\n",
    "            a = int(input())\n",
    "            temp_s.append(a)\n",
    "        k.append(temp_s)\n",
    "    return k\n",
    "\n",
    "\n",
    "\n",
    "def minors(key):\n",
    "    m1 = key[0][0]*key[1][1]- key[0][1]*key[1][0]\n",
    "    m2 = (key[0][0]*key[1][2]- key[0][2]*key[1][0])*-1\n",
    "    m3 = key[0][1]*key[1][2]- key[0][2]*key[1][1]\n",
    "    m4 = (key[0][0]*key[2][1]- key[0][1]*key[2][0])*-1\n",
    "    m5 = key[0][0]*key[2][2]- key[2][0]*key[0][2]\n",
    "    m6 = (key[0][1]*key[2][2]- key[0][2]*key[2][1])*-1\n",
    "    m7 = key[1][0]*key[2][1]- key[1][1]*key[2][0]\n",
    "    m8 = (key[1][0]*key[2][2]- key[1][2]*key[2][0])*-1\n",
    "    m9 = key[1][1]*key[2][2]- key[1][2]*key[2][1]\n",
    "    matrics = []\n",
    "\n",
    "    matrics.append([m9,m6,m3])\n",
    "    matrics.append([m8,m5,m2])\n",
    "    matrics.append([m7,m4,m1])\n",
    "    return matrics\n",
    "    \n",
    "def matrichdenc(arr):\n",
    "    key1 = get_key()\n",
    "    print(key1)\n",
    "    op = find_op(key1)\n",
    "    \n",
    "    dkey = minors(key1)\n",
    "    for i in range(3):\n",
    "        for j in range(3):\n",
    "            dkey[i][j] = dkey[i][j] / op\n",
    "\n",
    "\n",
    "    arr2 = []\n",
    "    \n",
    "\n",
    "    for i in range(0, len(arr), 3): \n",
    "        arr2.append(arr[i:i+3])\n",
    "\n",
    "  \n",
    "    \n",
    "    \n",
    "    \n",
    "\n",
    "    n_string = []\n",
    "    for c in range(len(arr2)):\n",
    "        \n",
    "        for i in range(3):\n",
    "            suma = 0\n",
    "            for j in range(3):\n",
    "                suma += dkey[i][j]*arr2[c][j]\n",
    "            n_string.append(round(suma))\n",
    "    \n",
    "  \n",
    "    fin_string = []\n",
    "    for i in range(len(n_string)):\n",
    "        fin_string.append(alphabet[n_string[i]])\n",
    "    print(fin_string)\n",
    "\n",
    "\n",
    "\n",
    "matrichdenc(nn)\n",
    "\n",
    "\n"
   ]
  },
  {
   "cell_type": "code",
   "execution_count": 1,
   "metadata": {},
   "outputs": [
    {
     "data": {
      "text/plain": [
       "11"
      ]
     },
     "execution_count": 1,
     "metadata": {},
     "output_type": "execute_result"
    }
   ],
   "source": [
    "11**7%30"
   ]
  }
 ],
 "metadata": {
  "kernelspec": {
   "display_name": "Python 3",
   "language": "python",
   "name": "python3"
  },
  "language_info": {
   "codemirror_mode": {
    "name": "ipython",
    "version": 3
   },
   "file_extension": ".py",
   "mimetype": "text/x-python",
   "name": "python",
   "nbconvert_exporter": "python",
   "pygments_lexer": "ipython3",
   "version": "3.12.1"
  }
 },
 "nbformat": 4,
 "nbformat_minor": 2
}
