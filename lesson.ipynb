{
 "cells": [
  {
   "cell_type": "code",
   "execution_count": 18,
   "metadata": {},
   "outputs": [
    {
     "name": "stdout",
     "output_type": "stream",
     "text": [
      "['Ь', 'Ш', 'И', 'Л', 'С', 'А', 'М', 'О', 'П', 'Е', 'Н', 'К', 'А', 'Н', 'Р', 'Е', 'Т', 'С', 'А', 'П', 'И', 'М', 'А', 'В', 'О', 'Л', 'С', 'И', 'М', 'Ы', 'В', 'И', 'С', 'А', 'Р', 'К']\n"
     ]
    }
   ],
   "source": [
    "phrase = \"КРАСИВЫМИСЛОВАМИПАСТЕРНАКНЕПОМАСЛИШЬ\"\n",
    "\n",
    "\n",
    "def atbash(string):\n",
    "    n_string = []\n",
    "    for i in range(len(string)-1, -1, -1):\n",
    "        n_string.append(string[i])\n",
    "    print(n_string)\n",
    "\n",
    "atbash(phrase)"
   ]
  },
  {
   "cell_type": "code",
   "execution_count": 74,
   "metadata": {},
   "outputs": [
    {
     "name": "stdout",
     "output_type": "stream",
     "text": [
      "['М', 'У', 'Г', 'Ф', ' ', ' ', 'Ю', 'П', ' ', 'Ф', 'О', 'Р', ' ', 'Г', 'П', ' ', 'С', 'Г', 'Ф', 'Х', 'И', 'У', ' ', 'Г', 'М', ' ', 'И', 'С', 'Р', 'П', 'Г', 'Ф', 'О', ' ', 'Ь', 'Э']\n"
     ]
    }
   ],
   "source": [
    "\n",
    "alphabet = \"АБВГД ЕЖЗИЙК ЛМНОП РСТУФХЦЧШЩ ЬЫЪЭЮЯ\"\n",
    "\n",
    "al = \"КРАСИВЫЙ\"\n",
    "\n",
    "def shizar(string, dig):\n",
    "    n_string = []\n",
    "    for i in range(len(string)):\n",
    "       index = alphabet.find(string[i]) + dig\n",
    "       n_string.append(alphabet[index])\n",
    "    print(n_string)\n",
    "\n",
    "\n",
    "\n",
    "\n",
    "shizar(phrase, 3)"
   ]
  },
  {
   "cell_type": "code",
   "execution_count": 80,
   "metadata": {},
   "outputs": [
    {
     "name": "stdout",
     "output_type": "stream",
     "text": [
      "['К', 'С', 'В', 'Ф', 'М', 'З', 'Б', 'Р']\n"
     ]
    }
   ],
   "source": [
    "alphabet = \"АБВГДЕЖЗИЙКЛМНОПРСТУФХЦЧШЩЬЫЪЭЮЯ\"\n",
    "\n",
    "\n",
    "s = \"КРАСИВЫЙ\"\n",
    "\n",
    "def tritemi(string):\n",
    "    n_string=[]\n",
    "    index = 0\n",
    "    for i in range(len(string)):\n",
    "        al_in = alphabet.find(string[i])\n",
    "        ind = (al_in+index) % len(alphabet) \n",
    "        n_string.append(alphabet[ind])\n",
    "        index +=1\n",
    "        if index == 32:\n",
    "            index = 0\n",
    "    print(n_string)\n",
    "\n",
    "tritemi(s)    "
   ]
  },
  {
   "cell_type": "code",
   "execution_count": 79,
   "metadata": {},
   "outputs": [
    {
     "name": "stdout",
     "output_type": "stream",
     "text": [
      "['Х', 'Х', 'М', 'Я', 'Х', 'Н', 'А', 'Ш', 'Ц', 'Ю', 'Ц', 'У', 'О', 'О', 'Щ', 'У', 'Ф', 'М', 'Я', 'Я', 'Р', 'Х', 'Щ', 'О', 'Ч', 'Ш', 'К', 'Ы', 'Ъ', 'Щ', 'Л', 'Ц', 'Ч', 'Ц', 'Е', 'Е']\n"
     ]
    }
   ],
   "source": [
    "\n",
    "alphabet = \"АБВГДЕЖЗИЙКЛМНОПРСТУФХЦЧШЩЬЫЪЭЮЯ\"\n",
    "\n",
    "\n",
    "def belazo(string, key):\n",
    "    n_string = []\n",
    "    k_index = 0\n",
    "    for i in range(len(string)):\n",
    "        n_letter =( alphabet.find(string[i]) + alphabet.find(key[k_index]))% len(alphabet)\n",
    "        n_string.append(alphabet[n_letter])\n",
    "        k_index+=1\n",
    "\n",
    "        if k_index == len(key):\n",
    "            k_index = 0\n",
    "    print(n_string)\n",
    "\n",
    "\n",
    "\n",
    "phrase = \"КРАСИВЫМИСЛОВАМИПАСТЕРНАКНЕПОМАСЛИШЬ\"\n",
    "        \n",
    "belazo(phrase, \"ЛЕМОН\")\n",
    "\n"
   ]
  },
  {
   "cell_type": "code",
   "execution_count": null,
   "metadata": {},
   "outputs": [
    {
     "name": "stdout",
     "output_type": "stream",
     "text": [
      "['Ь', 'Р', 'С', 'Щ', 'К', 'Э', 'З', 'Ф', 'Щ', 'Ъ', 'Щ', 'Р', 'В', 'М', 'Ф', 'Ч', 'П', 'С', 'Г', 'Ч', 'Х', 'Э', 'Н', 'К', 'Ч', 'Т', 'Ф', 'Э', 'Ь', 'М', 'С', 'Ъ', 'У', 'А', 'Т']\n"
     ]
    }
   ],
   "source": [
    "alphabet = \"АБВГДЕЖЗИЙКЛМНОПРСТУФХЦЧШЩЬЫЪЭЮЯ\"\n",
    "\n",
    "phrase = \"КРАСИВЫМИСЛОВАМИПАСТЕРНАКНЕПОМАСЛИШЬ\"\n",
    "\n",
    "def visjener(string, key):\n",
    "    n_string = []\n",
    "    for i in range(0,len(string)-1):\n",
    "        n_letter =( alphabet.find(string[i]) + alphabet.find(string[i+1]))% len(alphabet)\n",
    "        n_string.append(alphabet[n_letter])\n",
    "        \n",
    "\n",
    "        \n",
    "    print(n_string)\n",
    "\n",
    "\n",
    "visjener(phrase, 'К')\n",
    "\n"
   ]
  }
 ],
 "metadata": {
  "kernelspec": {
   "display_name": "Python 3",
   "language": "python",
   "name": "python3"
  },
  "language_info": {
   "codemirror_mode": {
    "name": "ipython",
    "version": 3
   },
   "file_extension": ".py",
   "mimetype": "text/x-python",
   "name": "python",
   "nbconvert_exporter": "python",
   "pygments_lexer": "ipython3",
   "version": "3.12.1"
  }
 },
 "nbformat": 4,
 "nbformat_minor": 2
}
