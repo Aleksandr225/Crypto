{
 "cells": [
  {
   "cell_type": "code",
   "execution_count": 2,
   "metadata": {},
   "outputs": [
    {
     "ename": "ZeroDivisionError",
     "evalue": "division by zero",
     "output_type": "error",
     "traceback": [
      "\u001b[1;31m---------------------------------------------------------------------------\u001b[0m",
      "\u001b[1;31mZeroDivisionError\u001b[0m                         Traceback (most recent call last)",
      "Cell \u001b[1;32mIn[2], line 61\u001b[0m\n\u001b[0;32m     59\u001b[0m kk \u001b[38;5;241m=\u001b[39m \u001b[38;5;124m\"\u001b[39m\u001b[38;5;124mСВЕДЕНИЯ\u001b[39m\u001b[38;5;124m\"\u001b[39m\n\u001b[0;32m     60\u001b[0m m \u001b[38;5;241m=\u001b[39m \u001b[38;5;124m\"\u001b[39m\u001b[38;5;124mКТООБЖЕГСЯНАСУПЕЗПТДУЕТИНАХОЛОДНУЮРЫБУТЧК\u001b[39m\u001b[38;5;124m\"\u001b[39m\n\u001b[1;32m---> 61\u001b[0m kk \u001b[38;5;241m=\u001b[39m \u001b[43mvert\u001b[49m\u001b[43m(\u001b[49m\u001b[43m)\u001b[49m\n",
      "Cell \u001b[1;32mIn[2], line 27\u001b[0m, in \u001b[0;36mvert\u001b[1;34m()\u001b[0m\n\u001b[0;32m     23\u001b[0m k \u001b[38;5;241m=\u001b[39m \u001b[38;5;28mstr\u001b[39m(\u001b[38;5;28minput\u001b[39m())\n\u001b[0;32m     25\u001b[0m key \u001b[38;5;241m=\u001b[39m find_key(k)\n\u001b[1;32m---> 27\u001b[0m \u001b[38;5;28mprint\u001b[39m(\u001b[38;5;28mround\u001b[39m(\u001b[38;5;28;43mlen\u001b[39;49m\u001b[43m(\u001b[49m\u001b[43mstring\u001b[49m\u001b[43m)\u001b[49m\u001b[38;5;241;43m/\u001b[39;49m\u001b[38;5;28;43mlen\u001b[39;49m\u001b[43m(\u001b[49m\u001b[43mkey\u001b[49m\u001b[43m)\u001b[49m))\n\u001b[0;32m     28\u001b[0m \u001b[38;5;28mprint\u001b[39m(key)\n\u001b[0;32m     29\u001b[0m table \u001b[38;5;241m=\u001b[39m []\n",
      "\u001b[1;31mZeroDivisionError\u001b[0m: division by zero"
     ]
    }
   ],
   "source": [
    "\n",
    "alphabet = \"АБВГДЕЖЗИЙКЛМНОПРСТУФХЦЧШЩЬЫЪЭЮЯ\"\n",
    "\n",
    "def find_key(key: str):\n",
    "    key1 =[0] * len(key)\n",
    "    \n",
    "\n",
    "    count = 0\n",
    "    for i in range(len(alphabet)):\n",
    "        if alphabet[i] in key:\n",
    "            for j in range(len(key)):\n",
    "                if key[j] == alphabet[i]:\n",
    "                    key1[j] = (count)\n",
    "                    count+=1\n",
    "    return key1\n",
    "        \n",
    "    \n",
    "\n",
    "\n",
    "def vert():\n",
    "    string = input()\n",
    "    \n",
    "\n",
    "    k = str(input())\n",
    "    \n",
    "    key = find_key(k)\n",
    "\n",
    "    print(round(len(string)/len(key)))\n",
    "    print(key)\n",
    "    table = []\n",
    "    for i in range(0, len(string), len(key)):\n",
    "        part = string[i:i+len(key)]\n",
    "\n",
    "        if len(part) < round(len(string)/len(key)):\n",
    "            part = part.ljust(round(len(string)/len(key)))\n",
    "        \n",
    "            # Добавляем каждый символ в качестве отдельного элемента в массив\n",
    "        table.append(list(part))\n",
    "    print(table)\n",
    "\n",
    "    \n",
    "    \n",
    "    n_string = []\n",
    "    for i in range(len(key)):\n",
    "        ind = key.index(i)\n",
    "        for j in range(round(len(string)/len(key))):\n",
    "            if ind < len(table[j]): \n",
    "                n_string.append(table[j][ind])\n",
    "    if len(string)% len(key) == 1:\n",
    "        n_string.append(table[len(table) - 1][0])\n",
    "            \n",
    "            \n",
    "\n",
    "    \n",
    "    \n",
    "                \n",
    "    print(n_string)\n",
    "    return n_string\n",
    "phrase = \"КРАСИВЫМИСЛОВАМИПАСТЕРНАКНЕПОМАСЛИШЬТЧК\"\n",
    "kk = \"СВЕДЕНИЯ\"\n",
    "m = \"КТООБЖЕГСЯНАСУПЕЗПТДУЕТИНАХОЛОДНУЮРЫБУТЧК\"\n",
    "kk = vert()\n"
   ]
  },
  {
   "cell_type": "code",
   "execution_count": 1,
   "metadata": {},
   "outputs": [
    {
     "ename": "NameError",
     "evalue": "name 'kk' is not defined",
     "output_type": "error",
     "traceback": [
      "\u001b[1;31m---------------------------------------------------------------------------\u001b[0m",
      "\u001b[1;31mNameError\u001b[0m                                 Traceback (most recent call last)",
      "Cell \u001b[1;32mIn[1], line 44\u001b[0m\n\u001b[0;32m     33\u001b[0m         fin_string\u001b[38;5;241m.\u001b[39mappend(table[\u001b[38;5;28mlen\u001b[39m(table) \u001b[38;5;241m-\u001b[39m \u001b[38;5;241m1\u001b[39m][\u001b[38;5;241m0\u001b[39m])\n\u001b[0;32m     41\u001b[0m     \u001b[38;5;28mprint\u001b[39m(fin_string)\n\u001b[1;32m---> 44\u001b[0m vert_d(\u001b[43mkk\u001b[49m)\n",
      "\u001b[1;31mNameError\u001b[0m: name 'kk' is not defined"
     ]
    }
   ],
   "source": [
    "def vert_d(string):\n",
    "    k = str(input())\n",
    "    key = find_key(k)\n",
    "    print(key)\n",
    "\n",
    "    \n",
    "        \n",
    "          \n",
    "    dig = round(len(string)/len(key))\n",
    "    table = []\n",
    "    for i in range(0, len(string), dig):\n",
    "        part = string[i:i+dig]\n",
    "        print(round(len(string)/len(key)))\n",
    "        \n",
    "            # Добавляем каждый символ в качестве отдельного элемента в массив\n",
    "        table.append(list(part))\n",
    "\n",
    "    print(table)\n",
    "\n",
    "    n_string = []\n",
    "\n",
    "    for i in key:   \n",
    "        n_string.append(table[i])\n",
    "        \n",
    "    print(n_string)\n",
    "    fin_string =[]\n",
    "\n",
    "    for i in range(dig):\n",
    "        for j in range(len(key)):\n",
    "            if i < len(n_string[j]): \n",
    "                fin_string.append(n_string[j][i])\n",
    "    if len(string)% len(key) == 1:\n",
    "        fin_string.append(table[len(table) - 1][0])\n",
    "            \n",
    "\n",
    "    \n",
    "        \n",
    "        \n",
    "            \n",
    "\n",
    "    print(fin_string)\n",
    "\n",
    "\n",
    "vert_d(kk)"
   ]
  },
  {
   "cell_type": "code",
   "execution_count": 28,
   "metadata": {},
   "outputs": [
    {
     "name": "stdout",
     "output_type": "stream",
     "text": [
      "5\n"
     ]
    }
   ],
   "source": [
    "print(round(39/8))"
   ]
  }
 ],
 "metadata": {
  "kernelspec": {
   "display_name": "Python 3",
   "language": "python",
   "name": "python3"
  },
  "language_info": {
   "codemirror_mode": {
    "name": "ipython",
    "version": 3
   },
   "file_extension": ".py",
   "mimetype": "text/x-python",
   "name": "python",
   "nbconvert_exporter": "python",
   "pygments_lexer": "ipython3",
   "version": "3.12.1"
  }
 },
 "nbformat": 4,
 "nbformat_minor": 2
}
