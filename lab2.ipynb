{
 "cells": [
  {
   "cell_type": "code",
   "execution_count": 8,
   "metadata": {},
   "outputs": [
    {
     "name": "stdout",
     "output_type": "stream",
     "text": [
      "['К', 'С', 'В', 'Ф', 'М', 'З', 'Б', 'У', 'Р', 'Ь', 'Х', 'Щ', 'О', 'Н', 'Ь', 'Ч', 'Я', 'С', 'Г', 'Е', 'Щ', 'Е', 'Г', 'Ч', 'В', 'Ж', 'Я', 'К', 'К', 'Й', 'Ю', 'Р', 'Л', 'Й', 'Ь', 'Э', 'Ц', 'Ъ', 'Р']\n"
     ]
    }
   ],
   "source": [
    "alphabet = \"АБВГДЕЖЗИЙКЛМНОПРСТУФХЦЧШЩЬЫЪЭЮЯ\"\n",
    "\n",
    "\n",
    "phrase = \"КРАСИВЫМИСЛОВАМИПАСТЕРНАКНЕПОМАСЛИШЬТЧК\"\n",
    "\n",
    "def tritemi(string):\n",
    "    n_string=[]\n",
    "    index = 0\n",
    "    for i in range(len(string)):\n",
    "        al_in = alphabet.find(string[i])\n",
    "        ind = (al_in+index) % len(alphabet) \n",
    "        n_string.append(alphabet[ind])\n",
    "        index +=1\n",
    "        if index == 32:\n",
    "            index = 0\n",
    "    print(n_string)\n",
    "    return n_string\n",
    "\n",
    "tr = tritemi(phrase)   "
   ]
  },
  {
   "cell_type": "code",
   "execution_count": 9,
   "metadata": {},
   "outputs": [
    {
     "name": "stdout",
     "output_type": "stream",
     "text": [
      "['К', 'Р', 'А', 'С', 'И', 'В', 'Ы', 'М', 'И', 'С', 'Л', 'О', 'В', 'А', 'М', 'И', 'П', 'А', 'С', 'Т', 'Е', 'Р', 'Н', 'А', 'К', 'Н', 'Е', 'П', 'О', 'М', 'А', 'С', 'Л', 'И', 'Ш', 'Ь', 'Т', 'Ч', 'К']\n"
     ]
    }
   ],
   "source": [
    "alphabet = \"АБВГДЕЖЗИЙКЛМНОПРСТУФХЦЧШЩЬЫЪЭЮЯ\"\n",
    "\n",
    "\n",
    "phrase = \"КРАСИВЫМИСЛОВАМИПАСТЕРНАКНЕПОМАСЛИШЬТЧК\"\n",
    "\n",
    "def tritemi_un(string):\n",
    "    n_string=[]\n",
    "    index = 0\n",
    "    for i in range(len(string)):\n",
    "        al_in = alphabet.find(string[i])\n",
    "        ind = (al_in-index) % len(alphabet) \n",
    "        n_string.append(alphabet[ind])\n",
    "        index +=1\n",
    "        if index == 32:\n",
    "            index = 0\n",
    "    print(n_string)\n",
    "    return n_string\n",
    "\n",
    "tr = tritemi_un(tr)   "
   ]
  },
  {
   "cell_type": "code",
   "execution_count": 11,
   "metadata": {},
   "outputs": [
    {
     "name": "stdout",
     "output_type": "stream",
     "text": [
      "['Б', 'Ю', 'Ю', 'Ю', 'Ю']\n"
     ]
    }
   ],
   "source": [
    "\n",
    "alphabet = \"АБВГДЕЖЗИЙКЛМНОПРСТУФХЦЧШЩЬЫЪЭЮЯ\"\n",
    "\n",
    "\n",
    "def belazo():\n",
    "\n",
    "    string = input()\n",
    "    \n",
    "    key = input()\n",
    "        \n",
    "\n",
    "\n",
    "    n_string = []\n",
    "    k_index = 0\n",
    "    for i in range(len(string)):\n",
    "        n_letter =( alphabet.find(string[i]) + alphabet.find(key[k_index])) % len(alphabet)\n",
    "        n_string.append(alphabet[n_letter])\n",
    "        k_index+=1\n",
    "\n",
    "        if k_index == len(key):\n",
    "            k_index = 0\n",
    "    print(n_string)\n",
    "    return n_string\n",
    "\n",
    "\n",
    "\n",
    "phrase = \"КРАСИВЫМИСЛОВАМИПАСТЕРНАКНЕПОМАСЛИШЬ\"\n",
    "        \n",
    "nn = belazo()\n",
    "\n"
   ]
  },
  {
   "cell_type": "code",
   "execution_count": 12,
   "metadata": {},
   "outputs": [
    {
     "name": "stdout",
     "output_type": "stream",
     "text": [
      "['В', 'Я', 'Я', 'Я', 'Я']\n"
     ]
    }
   ],
   "source": [
    "\n",
    "alphabet = \"АБВГДЕЖЗИЙКЛМНОПРСТУФХЦЧШЩЬЫЪЭЮЯ\"\n",
    "\n",
    "\n",
    "def belazo(string):\n",
    "    key = input()\n",
    "    n_string = []\n",
    "    k_index = 0\n",
    "    for i in range(len(string)):\n",
    "        n_letter =( alphabet.find(string[i]) - alphabet.find(key[k_index]))% len(alphabet)\n",
    "        n_string.append(alphabet[n_letter])\n",
    "        k_index+=1\n",
    "\n",
    "        if k_index == len(key):\n",
    "            k_index = 0\n",
    "    print(n_string)\n",
    "\n",
    "\n",
    "\n",
    "phrase = \"КРАСИВЫМИСЛОВАМИПАСТЕРНАКНЕПОМАСЛИШЬ\"\n",
    "        \n",
    "belazo(nn)\n",
    "\n"
   ]
  }
 ],
 "metadata": {
  "kernelspec": {
   "display_name": "Python 3",
   "language": "python",
   "name": "python3"
  },
  "language_info": {
   "codemirror_mode": {
    "name": "ipython",
    "version": 3
   },
   "file_extension": ".py",
   "mimetype": "text/x-python",
   "name": "python",
   "nbconvert_exporter": "python",
   "pygments_lexer": "ipython3",
   "version": "3.12.1"
  }
 },
 "nbformat": 4,
 "nbformat_minor": 2
}
