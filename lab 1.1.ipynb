{
 "cells": [
  {
   "cell_type": "code",
   "execution_count": null,
   "metadata": {},
   "outputs": [
    {
     "name": "stdout",
     "output_type": "stream",
     "text": [
      "['Я', 'Ю', 'Э', 'Ъ', 'Ы']\n",
      "['А', 'Б', 'В', 'Г', 'Д']\n"
     ]
    }
   ],
   "source": [
    "\n",
    "\n",
    "alphabet = \"АБВГДЕЖЗИЙКЛМНОПРСТУФХЦЧШЩЬЫЪЭЮЯ\"\n",
    "\n",
    "\n",
    "def atbash():\n",
    "    string = input()\n",
    "    n_string = []\n",
    "    for i in range(len(string)):\n",
    "        ind = alphabet.index(string[i]) #  \n",
    "        indm = 32 - ind - 1\n",
    "        n_string.append(alphabet[indm])\n",
    "    print(n_string)\n",
    "    return n_string\n",
    "\n",
    "def atbashun(string):\n",
    "    \n",
    "    n_string = []\n",
    "    for i in range(len(string)):\n",
    "        ind = alphabet.index(string[i])\n",
    "        indm =  -ind%32 -1\n",
    "        n_string.append(alphabet[indm])\n",
    "    print(n_string)\n",
    "    return n_string\n",
    "\n",
    "b = atbash()\n",
    "nn = atbashun(b)\n",
    "\n"
   ]
  },
  {
   "cell_type": "code",
   "execution_count": null,
   "metadata": {},
   "outputs": [
    {
     "ename": "ValueError",
     "evalue": "invalid literal for int() with base 10: ''",
     "output_type": "error",
     "traceback": [
      "\u001b[1;31m---------------------------------------------------------------------------\u001b[0m",
      "\u001b[1;31mValueError\u001b[0m                                Traceback (most recent call last)",
      "Cell \u001b[1;32mIn[2], line 25\u001b[0m\n\u001b[0;32m     19\u001b[0m     \u001b[38;5;28mprint\u001b[39m(n_string)\n\u001b[0;32m     21\u001b[0m     \u001b[38;5;28;01mreturn\u001b[39;00m n_string\n\u001b[1;32m---> 25\u001b[0m nn \u001b[38;5;241m=\u001b[39m \u001b[43mshizar\u001b[49m\u001b[43m(\u001b[49m\u001b[43m)\u001b[49m\n",
      "Cell \u001b[1;32mIn[2], line 8\u001b[0m, in \u001b[0;36mshizar\u001b[1;34m()\u001b[0m\n\u001b[0;32m      6\u001b[0m string \u001b[38;5;241m=\u001b[39m \u001b[38;5;28minput\u001b[39m()\n\u001b[0;32m      7\u001b[0m \u001b[38;5;28;01mwhile\u001b[39;00m \u001b[38;5;28;01mTrue\u001b[39;00m:\n\u001b[1;32m----> 8\u001b[0m     dig \u001b[38;5;241m=\u001b[39m \u001b[38;5;28;43mint\u001b[39;49m\u001b[43m(\u001b[49m\u001b[38;5;28;43minput\u001b[39;49m\u001b[43m(\u001b[49m\u001b[43m)\u001b[49m\u001b[43m)\u001b[49m\n\u001b[0;32m      9\u001b[0m     \u001b[38;5;28;01mif\u001b[39;00m dig \u001b[38;5;241m<\u001b[39m \u001b[38;5;241m1\u001b[39m \u001b[38;5;129;01mor\u001b[39;00m dig \u001b[38;5;241m>\u001b[39m\u001b[38;5;241m31\u001b[39m:\n\u001b[0;32m     10\u001b[0m         \u001b[38;5;28mprint\u001b[39m(\u001b[38;5;124m\"\u001b[39m\u001b[38;5;124mНеверный ключ\u001b[39m\u001b[38;5;124m\"\u001b[39m)\n",
      "\u001b[1;31mValueError\u001b[0m: invalid literal for int() with base 10: ''"
     ]
    }
   ],
   "source": [
    "alphabet = \"АБВГДЕЖЗИЙКЛМНОПРСТУФХЦЧШЩЬЫЪЭЮЯ\"\n",
    "\n",
    "\n",
    "\n",
    "def shizar():\n",
    "    string = input()\n",
    "    while True:\n",
    "        dig = int(input())\n",
    "        if dig < 1 or dig >31:\n",
    "            print(\"Неверный ключ\")\n",
    "            continue\n",
    "        else:\n",
    "            break\n",
    "\n",
    "    n_string = []\n",
    "    for i in range(len(string)):\n",
    "       index = alphabet.find(string[i]) + dig\n",
    "       n_string.append(alphabet[index])\n",
    "    print(n_string)\n",
    "\n",
    "    return n_string\n",
    "\n",
    "\n",
    "\n",
    "nn = shizar()"
   ]
  },
  {
   "cell_type": "code",
   "execution_count": null,
   "metadata": {},
   "outputs": [
    {
     "ename": "NameError",
     "evalue": "name 'nn' is not defined",
     "output_type": "error",
     "traceback": [
      "\u001b[1;31m---------------------------------------------------------------------------\u001b[0m",
      "\u001b[1;31mNameError\u001b[0m                                 Traceback (most recent call last)",
      "Cell \u001b[1;32mIn[1], line 22\u001b[0m\n\u001b[0;32m     16\u001b[0m        n_string\u001b[38;5;241m.\u001b[39mappend(alphabet[index])\n\u001b[0;32m     17\u001b[0m     \u001b[38;5;28mprint\u001b[39m(n_string)\n\u001b[1;32m---> 22\u001b[0m shizar_en(\u001b[43mnn\u001b[49m)\n",
      "\u001b[1;31mNameError\u001b[0m: name 'nn' is not defined"
     ]
    }
   ],
   "source": [
    "alphabet = \"АБВГДЕЖЗИЙКЛМНОПРСТУФХЦЧШЩЬЫЪЭЮЯ\"\n",
    "\n",
    "\n",
    "\n",
    "def shizar_en(string):\n",
    "    \n",
    "    while True:\n",
    "        dig = int(input())\n",
    "        if dig < 1 or dig >31:\n",
    "            continue\n",
    "        else:\n",
    "            break\n",
    "    n_string = []\n",
    "    for i in range(len(string)):\n",
    "       index = alphabet.find(string[i]) - dig\n",
    "       n_string.append(alphabet[index])\n",
    "    print(n_string)\n",
    "\n",
    "\n",
    "\n",
    "\n",
    "shizar_en(nn)"
   ]
  },
  {
   "cell_type": "code",
   "execution_count": null,
   "metadata": {},
   "outputs": [
    {
     "name": "stdout",
     "output_type": "stream",
     "text": [
      "1316363211\n",
      "['В', 'Е', 'С', 'Н', 'А']\n"
     ]
    }
   ],
   "source": [
    "polib = [['А','Б','В','Г','Д','Е'],\n",
    "        ['Ж','З','И','Й','К','Л'],\n",
    "        ['М','Н','О','П','Р','С'],\n",
    "        ['Т','У','Ф','Х','Ц','Ч'],\n",
    "        ['Ш','Щ','Ъ','Ы','Ь','Э'],\n",
    "        ['Ю','Я']]\n",
    "\n",
    "def arr_to_str(arr):\n",
    "    string = \"\"\n",
    "    for i in range(len(arr)):\n",
    "        string += arr[i]    \n",
    "\n",
    "    return string   \n",
    "\n",
    "\n",
    "def polib_s():\n",
    "    fin = []\n",
    "    string = \"ВЕСНА\"\n",
    "    for k in range(len(string)):\n",
    "        for i in range(6):\n",
    "            for j in range(len(polib[i])):\n",
    "                if polib[i][j] == string[k]:\n",
    "                    \n",
    "                    fin.append(str(i+1)+str(j+1))\n",
    "                    break\n",
    "    \n",
    "    f = arr_to_str(fin)\n",
    "    print(f)\n",
    "    return fin\n",
    "\n",
    " \n",
    "        \n",
    "nn = polib_s()\n",
    "\n",
    "\n",
    "def polib_de(arr):\n",
    "    \n",
    "    fin = []\n",
    "    for i in range(len(arr)):\n",
    "        f_d = int(str(arr[i])[:1]) - 1\n",
    "        s_d = int(str(arr[i])[1:]) - 1\n",
    "        fin.append(polib[f_d][s_d])\n",
    "    fin  = make_text(fin, 2)\n",
    "    print(fin)        \n",
    "\n",
    "    \n",
    "        \n",
    "        \n",
    "\n",
    "polib_de(nn)\n"
   ]
  },
  {
   "cell_type": "code",
   "execution_count": 79,
   "metadata": {},
   "outputs": [
    {
     "data": {
      "text/plain": [
       "''"
      ]
     },
     "execution_count": 79,
     "metadata": {},
     "output_type": "execute_result"
    }
   ],
   "source": [
    "\n",
    "def arr_to_str(arr):\n",
    "    string = \"\"\n",
    "    for i in range(len(arr)):\n",
    "        string += arr[i]    \n",
    "\n",
    "    return string   \n",
    "\n",
    "\n",
    "\n",
    "def make_text():\n",
    "    text = input()\n",
    "    reps = [(',', 'ЗПТ'), (' ', 'ПРБ'), ('.', \"ТЧК\"),(\"-\", \"ТТТ\")]\n",
    "\n",
    "    for char, rep in reps:\n",
    "        if char in text:\n",
    "            text = text.replace(char, rep)\n",
    "    text = text.upper()\n",
    "    return text\n",
    "    \n",
    "    \n",
    "make_text()"
   ]
  }
 ],
 "metadata": {
  "kernelspec": {
   "display_name": "Python 3",
   "language": "python",
   "name": "python3"
  },
  "language_info": {
   "codemirror_mode": {
    "name": "ipython",
    "version": 3
   },
   "file_extension": ".py",
   "mimetype": "text/x-python",
   "name": "python",
   "nbconvert_exporter": "python",
   "pygments_lexer": "ipython3",
   "version": "3.12.1"
  }
 },
 "nbformat": 4,
 "nbformat_minor": 2
}
